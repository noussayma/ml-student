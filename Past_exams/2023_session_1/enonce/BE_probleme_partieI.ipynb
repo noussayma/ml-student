{
  "cells": [
    {
      "cell_type": "markdown",
      "source": [
        "#Problème:\n",
        "\n",
        "#Deux cas d'utilisation des données d'opportunité"
      ],
      "metadata": {
        "id": "-1ciEeyNevrd"
      }
    },
    {
      "cell_type": "markdown",
      "source": [
        "La qualité de la description d'un phénomène physique dépend des moyens d'observation disponibles. Généralement, les moyens à disposition dépendent de la zone géographique et de la période considérée.\n",
        "Lorsque les capteurs sont peu nombreux, on peut chercher à compléter l'observation par des données supplémentaires issues de capteurs non spécifiques. On parle alors de *données d'opportunité*.\n",
        "\n",
        "Les *données d'opportunité* peuvent être exploitées par apprentissage. Une approche courante consiste à entraîner un modèle sur la zone où des capteurs spécifiques peuvent fournir une cible de qualité. Le modèle est ensuite porté là où seules les *données d'opportunité* sont disponibles.\n",
        "\n",
        "Aujourd'hui, on utilise par exemple des données issues des réseaux de télécommunication pour préciser la localisation et l'intensité de phénomènes physiques ou sociaux.  \n",
        "La première partie du problème est inspirée du cas où la donnée opportune est une atténuation du signal échangé entre les antennes d'un réseau mobile.\n",
        "\n",
        "On cherche aussi à exploiter des données issues de capteurs de mauvaise qualité qui peuvent être beaucoup plus nombreux que les capteurs spécifiques. C'est ce qu'illustre la seconde partie.\n",
        "\n",
        "**Note**: les deux parties du problème sont complètement indépendantes."
      ],
      "metadata": {
        "id": "CAkaS7_je3Is"
      }
    },
    {
      "cell_type": "markdown",
      "metadata": {
        "id": "MSgiKnAs1BbN"
      },
      "source": [
        "**Partie I - problème n°1 : régression avec un UNet**"
      ]
    },
    {
      "cell_type": "code",
      "execution_count": 1,
      "metadata": {
        "id": "mU0zdFYCLdgR"
      },
      "outputs": [],
      "source": [
        "import os\n",
        "import random\n",
        "import torch\n",
        "import torch.nn as nn\n",
        "import torch.optim as optim\n",
        "import torch.utils.data\n",
        "import numpy as np\n",
        "import matplotlib.pyplot as plt"
      ]
    },
    {
      "cell_type": "code",
      "execution_count": 2,
      "metadata": {
        "id": "KFkJEv24N5Rn",
        "colab": {
          "base_uri": "https://localhost:8080/"
        },
        "outputId": "6d6e62c3-a561-41ec-de0b-861c9d737ded"
      },
      "outputs": [
        {
          "output_type": "stream",
          "name": "stdout",
          "text": [
            "--2024-01-11 15:51:04--  https://www.grosfichiers.com/HAnmgiuVNGn_XtdcYCeMNnJ\n",
            "Resolving www.grosfichiers.com (www.grosfichiers.com)... 51.68.254.173\n",
            "Connecting to www.grosfichiers.com (www.grosfichiers.com)|51.68.254.173|:443... connected.\n",
            "HTTP request sent, awaiting response... 200 OK\n",
            "Length: 27402 (27K) [application/octet-stream]\n",
            "Saving to: ‘HAnmgiuVNGn_XtdcYCeMNnJ’\n",
            "\n",
            "HAnmgiuVNGn_XtdcYCe 100%[===================>]  26.76K  --.-KB/s    in 0s      \n",
            "\n",
            "2024-01-11 15:51:05 (235 MB/s) - ‘HAnmgiuVNGn_XtdcYCeMNnJ’ saved [27402/27402]\n",
            "\n"
          ]
        }
      ],
      "source": [
        "# Lien valable jusqu'au 17/01/2024:\n",
        "# module à charger\n",
        "! wget https://www.grosfichiers.com/HAnmgiuVNGn_XtdcYCeMNnJ\n",
        "! mv HAnmgiuVNGn_XtdcYCeMNnJ utile_BE.py\n",
        "! mkdir data\n",
        "from utile_BE import *"
      ]
    },
    {
      "cell_type": "markdown",
      "source": [
        "Dans ce problème, la cible $T$ est un champ physique scalaire, positif ou nul. On suppose que, dans le meilleur des cas, deux types de capteurs spécifiques sont disponibles.\\\n",
        "Le premier type fournit une mesure spatialisée du champ. Il n'est pas partout disponible. Le second type de capteur fournit une mesure ponctuelle. Ces capteurs sont implantés sur toute la zone d'intérêt mais il ne couvrent correctement que 0.5% de la surface.\\\n",
        "En plus de ces capteurs, on suppose qu'on a accès à des données issues d'un réseau de télécommunications. Ces données réflètent l'atténuation d'un signal échangé entre des antennes relais. On suppose que pour chaque signal émis entre deux antennes $A_i$, $A_j$, on peut calculer une quantité $S(A_i,A_j;T)$ qui ne dépend que de la valeur moyenne du champ $T$ sur le trajet entre $A_i$ et $A_j$.\n",
        "\n",
        "On se place dans le cas où un jeu est constitué sur la zone où la mesure spatialisée du champ est disponible. Pour une première preuve de concept, on travaille avec des images de synthèse sur lesquelles:\n",
        "- les mesures ponctuelles ont été attribuées aux pixels qui leur correspondent.\n",
        "- les données d'opportunité sont représentées par des segments. Les extrémités d'un segment représentent deux antennes $A_i$, $A_j$. Le long d'un segment, l'intensité des pixels est constante, de valeur $S(A_i,A_j;T)$ (seule exception, dans le cas d'intersections, les valeurs sont simplement sommées - voir ci-dessous)."
      ],
      "metadata": {
        "id": "xlQHRrfQqmKw"
      }
    },
    {
      "cell_type": "code",
      "source": [
        "batch_size = 6\n",
        "p = 0.5 / 100\n",
        "full_target, partial_target, integrated_signals  = gen_image_with_integrated_signals(batch_size, p)\n",
        "\n",
        "\n",
        "fig1 = plt.figure(1, figsize=(36, 6))\n",
        "# champ T\n",
        "voir_batch2D(full_target, 6, fig1, k=0, min_scale=0, max_scale=1)\n",
        "\n",
        "# mesures ponctuelles\n",
        "fig2 = plt.figure(2, figsize=(36, 6))\n",
        "voir_batch2D(partial_target, 6, fig2, k=0, min_scale=-1, max_scale=1)\n",
        "\n",
        "# représentation des données d'opportunité par des segments\n",
        "fig3 = plt.figure(3, figsize=(36, 6))\n",
        "voir_batch2D(integrated_signals, 6, fig3, k=0, min_scale=0, max_scale=1)"
      ],
      "metadata": {
        "id": "pd1BiavmQnmO",
        "outputId": "ccc32337-d014-42c1-8c80-ab129da1b302",
        "colab": {
          "base_uri": "https://localhost:8080/",
          "height": 921
        }
      },
      "execution_count": 3,
      "outputs": [
        {
          "output_type": "display_data",
          "data": {
            "text/plain": [
              "<Figure size 3600x600 with 2 Axes>"
            ],
            "image/png": "[encoded data removed]"
          },
          "metadata": {}
        },
        {
          "output_type": "display_data",
          "data": {
            "text/plain": [
              "<Figure size 3600x600 with 2 Axes>"
            ],
            "image/png": "[encoded data removed]"
          },
          "metadata": {}
        },
        {
          "output_type": "display_data",
          "data": {
            "text/plain": [
              "<Figure size 3600x600 with 2 Axes>"
            ],
            "image/png": "[encoded data removed]"
          },
          "metadata": {}
        }
      ]
    },
    {
      "cell_type": "markdown",
      "source": [
        "Dans la cellule précédente, la fonction *gen_image_with_integrated_signals* permet de visualiser le jeu simulé:\n",
        "- *full_target* représente le champ $T$ vu par le premier type de capteur spécifique sur la zone couverte par l'image. Il s'agit de disques de valeurs positives.\n",
        "- *partial_target* représente les mesures ponctuelles. En dehors des points de mesure, la valeur est fixée à -1.\n",
        "- *integrated_signals* contient la représentation par segments. En dehors des segments, la valeur est fixée à 0. Dans cette simulation simpliste, les segments ont tous été supposés parallèles à l'un des deux côtés de l'image. De plus, $S$ a été modélisé comme une fonction affine, croissante de la valeur moyenne sur le segment. Ainsi, l'intensité d'un segment croit avec le nombre de disques traversés."
      ],
      "metadata": {
        "id": "iBqBbKylu3qf"
      }
    },
    {
      "cell_type": "markdown",
      "source": [
        "Dans cette partie, le but est de dire:\\\n",
        "**A.** si l'on peut entraîner avec succès un *FCN* à restituer $T$ **à partir** de données d'opportunité représentées par des segments (**exercice 1**).\\\n",
        "**B.** si en combinant des données d'opportunité aux mesures ponctuelles, on améliore bien les performances d'un $FCN$ (**exercice 2**)."
      ],
      "metadata": {
        "id": "Vjk_hImGoknf"
      }
    },
    {
      "cell_type": "markdown",
      "source": [
        "**Exercice 1**"
      ],
      "metadata": {
        "id": "h4qSC2Sp0Vu1"
      }
    },
    {
      "cell_type": "markdown",
      "source": [
        "**Q1** Dans la cellule suivante, instancier un UNet. Choisir correctement *ch_in* et *ch_out*."
      ],
      "metadata": {
        "id": "3mbQk5JJxhri"
      }
    },
    {
      "cell_type": "code",
      "source": [
        "ch_in = 1\n",
        "ch_out = 1\n",
        "size = 8\n",
        "\n",
        "fcn = UNet(ch_in, ch_out, size)"
      ],
      "metadata": {
        "id": "8lKrkjdHRSBG"
      },
      "execution_count": 5,
      "outputs": []
    },
    {
      "cell_type": "markdown",
      "source": [
        "**Q2** Combien de poids ce réseau contient-il ? Ecrire le calcul ou intégrer un bout de code qui conduit au résultat."
      ],
      "metadata": {
        "id": "SKeHuXmt0j22"
      }
    },
    {
      "cell_type": "code",
      "source": [
        "#On determine d'abord les couches du reseau\n",
        "# Pour voir les noms des couches contenues dans UNEt\n",
        "for module in fcn.modules():\n",
        "    print(module.__class__.__name__)"
      ],
      "metadata": {
        "id": "J9zJd62r0n79",
        "outputId": "5150b52b-0f2d-4c60-d404-77d4314f8fb8",
        "colab": {
          "base_uri": "https://localhost:8080/"
        }
      },
      "execution_count": 6,
      "outputs": [
        {
          "output_type": "stream",
          "name": "stdout",
          "text": [
            "UNet\n",
            "inconv\n",
            "double_conv\n",
            "Sequential\n",
            "Conv2d\n",
            "BatchNorm2d\n",
            "ReLU\n",
            "Conv2d\n",
            "BatchNorm2d\n",
            "ReLU\n",
            "Down\n",
            "Sequential\n",
            "MaxPool2d\n",
            "double_conv\n",
            "Sequential\n",
            "Conv2d\n",
            "BatchNorm2d\n",
            "ReLU\n",
            "Conv2d\n",
            "BatchNorm2d\n",
            "ReLU\n",
            "Down\n",
            "Sequential\n",
            "MaxPool2d\n",
            "double_conv\n",
            "Sequential\n",
            "Conv2d\n",
            "BatchNorm2d\n",
            "ReLU\n",
            "Conv2d\n",
            "BatchNorm2d\n",
            "ReLU\n",
            "Down\n",
            "Sequential\n",
            "MaxPool2d\n",
            "double_conv\n",
            "Sequential\n",
            "Conv2d\n",
            "BatchNorm2d\n",
            "ReLU\n",
            "Conv2d\n",
            "BatchNorm2d\n",
            "ReLU\n",
            "Down\n",
            "Sequential\n",
            "MaxPool2d\n",
            "double_conv\n",
            "Sequential\n",
            "Conv2d\n",
            "BatchNorm2d\n",
            "ReLU\n",
            "Conv2d\n",
            "BatchNorm2d\n",
            "ReLU\n",
            "Up\n",
            "ConvTranspose2d\n",
            "double_conv\n",
            "Sequential\n",
            "Conv2d\n",
            "BatchNorm2d\n",
            "ReLU\n",
            "Conv2d\n",
            "BatchNorm2d\n",
            "ReLU\n",
            "Up\n",
            "ConvTranspose2d\n",
            "double_conv\n",
            "Sequential\n",
            "Conv2d\n",
            "BatchNorm2d\n",
            "ReLU\n",
            "Conv2d\n",
            "BatchNorm2d\n",
            "ReLU\n",
            "Up\n",
            "ConvTranspose2d\n",
            "double_conv\n",
            "Sequential\n",
            "Conv2d\n",
            "BatchNorm2d\n",
            "ReLU\n",
            "Conv2d\n",
            "BatchNorm2d\n",
            "ReLU\n",
            "Up\n",
            "ConvTranspose2d\n",
            "double_conv\n",
            "Sequential\n",
            "Conv2d\n",
            "BatchNorm2d\n",
            "ReLU\n",
            "Conv2d\n",
            "BatchNorm2d\n",
            "ReLU\n",
            "outconv\n",
            "Conv2d\n",
            "outconv\n",
            "Conv2d\n"
          ]
        }
      ]
    },
    {
      "cell_type": "code",
      "source": [
        "\n",
        "\n",
        "nb_weights = 0\n",
        "for module in fcn.modules():\n",
        "  # On compte les poids des couches qui en contiennent (attention aux doublons!):\n",
        "  if isinstance(module, nn.Conv2d)\\\n",
        "    or isinstance(module, nn.BatchNorm2d)\\\n",
        "    or isinstance(module, nn.ConvTranspose2d):\n",
        "    print(module.__class__.__name__)\n",
        "    for parameter in module.parameters():\n",
        "      nb_weights += torch.numel(parameter)\n",
        "print(\"nb de poids : \" + str(nb_weights))"
      ],
      "metadata": {
        "id": "rpPuAYI-PiN6",
        "outputId": "8066613e-b60c-468f-85f2-e04111109202",
        "colab": {
          "base_uri": "https://localhost:8080/"
        }
      },
      "execution_count": 7,
      "outputs": [
        {
          "output_type": "stream",
          "name": "stdout",
          "text": [
            "Conv2d\n",
            "BatchNorm2d\n",
            "Conv2d\n",
            "BatchNorm2d\n",
            "Conv2d\n",
            "BatchNorm2d\n",
            "Conv2d\n",
            "BatchNorm2d\n",
            "Conv2d\n",
            "BatchNorm2d\n",
            "Conv2d\n",
            "BatchNorm2d\n",
            "Conv2d\n",
            "BatchNorm2d\n",
            "Conv2d\n",
            "BatchNorm2d\n",
            "Conv2d\n",
            "BatchNorm2d\n",
            "Conv2d\n",
            "BatchNorm2d\n",
            "ConvTranspose2d\n",
            "Conv2d\n",
            "BatchNorm2d\n",
            "Conv2d\n",
            "BatchNorm2d\n",
            "ConvTranspose2d\n",
            "Conv2d\n",
            "BatchNorm2d\n",
            "Conv2d\n",
            "BatchNorm2d\n",
            "ConvTranspose2d\n",
            "Conv2d\n",
            "BatchNorm2d\n",
            "Conv2d\n",
            "BatchNorm2d\n",
            "ConvTranspose2d\n",
            "Conv2d\n",
            "BatchNorm2d\n",
            "Conv2d\n",
            "BatchNorm2d\n",
            "Conv2d\n",
            "Conv2d\n",
            "nb de poids : 232546\n"
          ]
        }
      ]
    },
    {
      "cell_type": "markdown",
      "source": [
        "**Q3** Présenter brièvement les types de couches utilisées dans ce réseau."
      ],
      "metadata": {
        "id": "1Heo9DMy0wvN"
      }
    },
    {
      "cell_type": "markdown",
      "source": [],
      "metadata": {
        "id": "nMlLGY8f1D2F"
      }
    },
    {
      "cell_type": "markdown",
      "source": [
        "**Q4** Dans la cellule suivante, coder en une ligne l'erreur absolue moyenne (MAE)."
      ],
      "metadata": {
        "id": "v4TOsQlI1EgU"
      }
    },
    {
      "cell_type": "code",
      "source": [
        "def criterion(output,target):\n",
        "  return torch.mean(torch.abs(output - target))"
      ],
      "metadata": {
        "id": "QpAnjlZD0hrk"
      },
      "execution_count": 8,
      "outputs": []
    },
    {
      "cell_type": "markdown",
      "source": [
        "**Q5** Instancier l'optimizer Adam avec un taux d'apprentissage de 0.0002."
      ],
      "metadata": {
        "id": "J2-jqJbQ1SqB"
      }
    },
    {
      "cell_type": "code",
      "source": [
        "optimizer = optim.Adam(fcn.parameters(), lr=0.001)"
      ],
      "metadata": {
        "id": "5vn9-oNyRUgu"
      },
      "execution_count": 9,
      "outputs": []
    },
    {
      "cell_type": "markdown",
      "source": [],
      "metadata": {
        "id": "boDjmqHV5tBz"
      }
    },
    {
      "cell_type": "markdown",
      "source": [
        "**Q6** Pourquoi est-il, en général, nécessaire de passer par une étape de validation lors d'un apprentissage ? Pourquoi peut-on s'en passer dans le cas où les images sont générées la volée ?\n",
        "\n",
        "Pour garantir les performances en généralisation sur le jeu de test. Autrement dit: l'étape de validation permet de s'assurer qu'il n'y a pas surapprentissage du jeu d'entraînement."
      ],
      "metadata": {
        "id": "BE69GIUQ5Yl7"
      }
    },
    {
      "cell_type": "markdown",
      "source": [
        "**Q7** Ecrire la boucle d'apprentissage. On stockera la MAE à chaque époque.\n",
        "- nombre d'époque : 30\n",
        "- batches par époque : 100\n",
        "- taille de batch : 32"
      ],
      "metadata": {
        "id": "8uzKkqfa4fQo"
      }
    },
    {
      "cell_type": "code",
      "source": [
        "nepochs = 30\n",
        "nbatches = 100\n",
        "batchsize = 32\n",
        "\n",
        "train_losses = []\n",
        "\n",
        "\n",
        "for epoch in range(nepochs):\n",
        "\n",
        "\n",
        "    print(\"Epoch \" + str(epoch))\n",
        "    epoch_losses  = []\n",
        "    for i in range(nbatches):    # nbatch = datasetsize/batchsize\n",
        "        #Load inputs\n",
        "\n",
        "\n",
        "        full_target, partial_target, integrated_signals = gen_image_with_integrated_signals(batch_size, p)\n",
        "\n",
        "        input = integrated_signals\n",
        "        target = full_target\n",
        "\n",
        "        #Zeroing the gradient\n",
        "        optimizer.zero_grad()\n",
        "        output = fcn(input)\n",
        "\n",
        "        loss = criterion(output,target)\n",
        "        loss.backward()\n",
        "\n",
        "        optimizer.step()\n",
        "\n",
        "\n",
        "        epoch_losses.append(loss.detach().cpu())\n",
        "\n",
        "        del target, input, loss\n",
        "        torch.cuda.empty_cache()\n",
        "\n",
        "    epoch_loss = np.mean(epoch_losses)\n",
        "    train_losses.append(epoch_loss)\n",
        "\n",
        "    print('epoch loss : \\n')\n",
        "    print(epoch_loss)"
      ],
      "metadata": {
        "id": "fGsbUI9iRXQt",
        "outputId": "8a99fe34-38cb-40b3-a153-85dbbf14ccd0",
        "colab": {
          "base_uri": "https://localhost:8080/"
        }
      },
      "execution_count": 11,
      "outputs": [
        {
          "output_type": "stream",
          "name": "stdout",
          "text": [
            "Epoch 0\n",
            "epoch loss : \n",
            "\n",
            "0.067990385\n",
            "Epoch 1\n",
            "epoch loss : \n",
            "\n",
            "0.040437926\n",
            "Epoch 2\n",
            "epoch loss : \n",
            "\n",
            "0.03659179\n",
            "Epoch 3\n",
            "epoch loss : \n",
            "\n",
            "0.03577091\n",
            "Epoch 4\n",
            "epoch loss : \n",
            "\n",
            "0.035990413\n",
            "Epoch 5\n",
            "epoch loss : \n",
            "\n",
            "0.03350555\n",
            "Epoch 6\n",
            "epoch loss : \n",
            "\n",
            "0.032580003\n",
            "Epoch 7\n",
            "epoch loss : \n",
            "\n",
            "0.032985542\n",
            "Epoch 8\n",
            "epoch loss : \n",
            "\n",
            "0.034140043\n",
            "Epoch 9\n",
            "epoch loss : \n",
            "\n",
            "0.0338768\n",
            "Epoch 10\n",
            "epoch loss : \n",
            "\n",
            "0.0321383\n",
            "Epoch 11\n",
            "epoch loss : \n",
            "\n",
            "0.032923266\n",
            "Epoch 12\n",
            "epoch loss : \n",
            "\n",
            "0.03350083\n",
            "Epoch 13\n",
            "epoch loss : \n",
            "\n",
            "0.032353308\n",
            "Epoch 14\n",
            "epoch loss : \n",
            "\n",
            "0.031483747\n",
            "Epoch 15\n",
            "epoch loss : \n",
            "\n",
            "0.03131851\n",
            "Epoch 16\n",
            "epoch loss : \n",
            "\n",
            "0.031739227\n",
            "Epoch 17\n",
            "epoch loss : \n",
            "\n",
            "0.030744337\n",
            "Epoch 18\n",
            "epoch loss : \n",
            "\n",
            "0.031084174\n",
            "Epoch 19\n",
            "epoch loss : \n",
            "\n",
            "0.030188255\n",
            "Epoch 20\n",
            "epoch loss : \n",
            "\n",
            "0.029654445\n",
            "Epoch 21\n",
            "epoch loss : \n",
            "\n",
            "0.028782243\n",
            "Epoch 22\n",
            "epoch loss : \n",
            "\n",
            "0.029884482\n",
            "Epoch 23\n",
            "epoch loss : \n",
            "\n",
            "0.029059913\n",
            "Epoch 24\n",
            "epoch loss : \n",
            "\n",
            "0.02864148\n",
            "Epoch 25\n",
            "epoch loss : \n",
            "\n",
            "0.028628236\n",
            "Epoch 26\n",
            "epoch loss : \n",
            "\n",
            "0.029839491\n",
            "Epoch 27\n",
            "epoch loss : \n",
            "\n",
            "0.029144488\n",
            "Epoch 28\n",
            "epoch loss : \n",
            "\n",
            "0.029319754\n",
            "Epoch 29\n",
            "epoch loss : \n",
            "\n",
            "0.028215803\n"
          ]
        }
      ]
    },
    {
      "cell_type": "markdown",
      "source": [
        "**Q8** Visualisez les résultats. Quelle conséquence visible le choix de la fonction de coût a-t-il eu ? Conclure sur le point **A.**"
      ],
      "metadata": {
        "id": "UuJSiE9r6fkq"
      }
    },
    {
      "cell_type": "markdown",
      "source": [],
      "metadata": {
        "id": "jRycbhmS8Quc"
      }
    },
    {
      "cell_type": "markdown",
      "source": [
        "**Exercice 2**\n",
        "\n",
        "On souhaite montrer qu'un *fcn* peut utiliser simultanément les deux types de signaux (mesures ponctuelles et données d'opportunité).\n",
        "Reprendre le code de **l'exercice 1** avec les deux champs en entrée. Comparer les performances aux plans quantitatif (courbes d'apprentissage) et qualitatif. Conclure."
      ],
      "metadata": {
        "id": "BJR_FpQ48RL_"
      }
    }
  ],
  "metadata": {
    "colab": {
      "provenance": []
    },
    "gpuClass": "standard",
    "kernelspec": {
      "display_name": "Python 3",
      "name": "python3"
    }
  },
  "nbformat": 4,
  "nbformat_minor": 0
}